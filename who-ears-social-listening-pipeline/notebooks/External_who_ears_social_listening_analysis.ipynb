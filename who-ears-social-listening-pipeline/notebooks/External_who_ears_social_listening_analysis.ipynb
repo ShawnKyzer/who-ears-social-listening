{
  "cells": [
    {
      "cell_type": "markdown",
      "id": "ac80d806-6f8e-4a60-a9f7-c9ea6f81aa91",
      "metadata": {
        "id": "ac80d806-6f8e-4a60-a9f7-c9ea6f81aa91"
      },
      "source": [
        "# Step 1 - Loading the data from our pipeline outputs for exploration\n",
        "The code below will install the necessary dependencies in order to get started exploring the full dataset post data ingestion pipeline. You will need to run this first before the data is loaded into the notebook. "
      ]
    },
    {
      "cell_type": "code",
      "execution_count": null,
      "id": "6824c05f-f77a-4d95-86d7-f67e649c6061",
      "metadata": {
        "id": "6824c05f-f77a-4d95-86d7-f67e649c6061"
      },
      "outputs": [],
      "source": [
        "!pip install gdown\n",
        "!pip install pyarrow"
      ]
    },
    {
      "cell_type": "code",
      "execution_count": null,
      "id": "d1741ef6-2ef7-4491-b55f-11f0e1e242e0",
      "metadata": {
        "id": "d1741ef6-2ef7-4491-b55f-11f0e1e242e0"
      },
      "outputs": [],
      "source": [
        "import gdown\n",
        "\n",
        "# Location of publicly available combined set for analysis post data ingestion pipeline run\n",
        "url = \"https://drive.google.com/drive/folders/1tUcqzoeM9AaDaUexcHg-OqXJeL6f5k6U?usp=share_link\"\n",
        "gdown.download_folder(url, quiet=True, use_cookies=False)"
      ]
    },
    {
      "cell_type": "code",
      "execution_count": null,
      "id": "7eb9d6cf-b8cb-4b33-a89f-56d386f02653",
      "metadata": {
        "id": "7eb9d6cf-b8cb-4b33-a89f-56d386f02653"
      },
      "outputs": [],
      "source": [
        "import pyarrow.parquet as pq\n",
        "import pandas as pd\n",
        "\n",
        "combined_data = pq.read_table(source=\"who_ears_social_listening_public/merged_owid_who_ears.parquet\").to_pandas()\n",
        "# We will need to reformat the date column for analysis\n",
        "combined_data['date'] = pd.to_datetime(combined_data['date'], format = '%Y-%m-%d')"
      ]
    },
    {
      "cell_type": "code",
      "execution_count": null,
      "id": "df67e88b-47ef-4530-abd2-47f7227e42a3",
      "metadata": {
        "id": "df67e88b-47ef-4530-abd2-47f7227e42a3"
      },
      "outputs": [],
      "source": [
        "combined_data.columns"
      ]
    },
    {
      "cell_type": "code",
      "execution_count": null,
      "id": "f5ed1259-6161-486e-be16-ed8cd49d33ce",
      "metadata": {
        "id": "f5ed1259-6161-486e-be16-ed8cd49d33ce"
      },
      "outputs": [],
      "source": [
        "# This will show the first 10 columns and rows we just want to make sure we loaded the data. \n",
        "combined_data.head(10)"
      ]
    },
    {
      "cell_type": "markdown",
      "metadata": {
        "id": "8feq2ZoWGHLL"
      },
      "source": [
        "# Step 2 - Creating a Space for Data Exploration \n",
        "We want to give the ability for our Domain expert to explore all of the variables in order to determine the most interesting to answer the research question. Leveraging tools like dtale make it easy to examine things such as missing variable and correlations. \n"
      ],
      "id": "8feq2ZoWGHLL"
    },
    {
      "cell_type": "code",
      "source": [
        "# Install the dtale package\n",
        "# Note: You may have to restart the runtime in which case be sure and import the dataframe again from the above code. \n",
        "!pip install -U dtale\n",
        "!pip install statsmodels --upgrade"
      ],
      "metadata": {
        "id": "VtdepE9DGwoa"
      },
      "id": "VtdepE9DGwoa",
      "execution_count": null,
      "outputs": []
    },
    {
      "cell_type": "code",
      "source": [
        "# lets examine out dataset \n",
        "import pandas as pd\n",
        "\n",
        "import dtale\n",
        "import dtale.app as dtale_app\n",
        "\n",
        "dtale_app.USE_COLAB = True # Comment this out if you are using another environment\n",
        "\n",
        "dtale.show(combined_data)"
      ],
      "metadata": {
        "id": "0QOaalNyG-Fg"
      },
      "id": "0QOaalNyG-Fg",
      "execution_count": null,
      "outputs": []
    },
    {
      "cell_type": "markdown",
      "source": [
        "Follow the link above and lets analyze our data and select the right features! You might also want to get acquainted with the dtale documentation here https://github.com/man-group/dtale. "
      ],
      "metadata": {
        "id": "J2pmM7oLJK4q"
      },
      "id": "J2pmM7oLJK4q"
    }
  ],
  "metadata": {
    "kernelspec": {
      "display_name": "Python 3 (ipykernel)",
      "language": "python",
      "name": "python3"
    },
    "language_info": {
      "codemirror_mode": {
        "name": "ipython",
        "version": 3
      },
      "file_extension": ".py",
      "mimetype": "text/x-python",
      "name": "python",
      "nbconvert_exporter": "python",
      "pygments_lexer": "ipython3",
      "version": "3.10.8"
    },
    "colab": {
      "provenance": []
    }
  },
  "nbformat": 4,
  "nbformat_minor": 5
}