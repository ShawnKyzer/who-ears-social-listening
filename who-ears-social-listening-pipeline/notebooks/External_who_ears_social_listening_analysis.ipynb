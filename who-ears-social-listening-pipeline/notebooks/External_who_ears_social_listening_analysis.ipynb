{
  "cells": [
    {
      "cell_type": "markdown",
      "id": "ac80d806-6f8e-4a60-a9f7-c9ea6f81aa91",
      "metadata": {
        "id": "ac80d806-6f8e-4a60-a9f7-c9ea6f81aa91"
      },
      "source": [
        "Getting Started: The code below will install the necessary dependencies in order to get started exploring the full dataset post data ingestion pipeline. You will need to run this first before the data is loaded into the notebook. "
      ]
    },
    {
      "cell_type": "code",
      "execution_count": 1,
      "id": "6824c05f-f77a-4d95-86d7-f67e649c6061",
      "metadata": {
        "id": "6824c05f-f77a-4d95-86d7-f67e649c6061",
        "outputId": "3ed96cbc-d3b2-438a-be0b-d082f7cb5c04",
        "colab": {
          "base_uri": "https://localhost:8080/"
        }
      },
      "outputs": [
        {
          "output_type": "stream",
          "name": "stdout",
          "text": [
            "Looking in indexes: https://pypi.org/simple, https://us-python.pkg.dev/colab-wheels/public/simple/\n",
            "Requirement already satisfied: gdown in /usr/local/lib/python3.8/dist-packages (4.4.0)\n",
            "Requirement already satisfied: tqdm in /usr/local/lib/python3.8/dist-packages (from gdown) (4.64.1)\n",
            "Requirement already satisfied: beautifulsoup4 in /usr/local/lib/python3.8/dist-packages (from gdown) (4.6.3)\n",
            "Requirement already satisfied: filelock in /usr/local/lib/python3.8/dist-packages (from gdown) (3.9.0)\n",
            "Requirement already satisfied: requests[socks] in /usr/local/lib/python3.8/dist-packages (from gdown) (2.25.1)\n",
            "Requirement already satisfied: six in /usr/local/lib/python3.8/dist-packages (from gdown) (1.15.0)\n",
            "Requirement already satisfied: idna<3,>=2.5 in /usr/local/lib/python3.8/dist-packages (from requests[socks]->gdown) (2.10)\n",
            "Requirement already satisfied: chardet<5,>=3.0.2 in /usr/local/lib/python3.8/dist-packages (from requests[socks]->gdown) (4.0.0)\n",
            "Requirement already satisfied: urllib3<1.27,>=1.21.1 in /usr/local/lib/python3.8/dist-packages (from requests[socks]->gdown) (1.24.3)\n",
            "Requirement already satisfied: certifi>=2017.4.17 in /usr/local/lib/python3.8/dist-packages (from requests[socks]->gdown) (2022.12.7)\n",
            "Requirement already satisfied: PySocks!=1.5.7,>=1.5.6 in /usr/local/lib/python3.8/dist-packages (from requests[socks]->gdown) (1.7.1)\n",
            "Looking in indexes: https://pypi.org/simple, https://us-python.pkg.dev/colab-wheels/public/simple/\n",
            "Requirement already satisfied: pyarrow in /usr/local/lib/python3.8/dist-packages (9.0.0)\n",
            "Requirement already satisfied: numpy>=1.16.6 in /usr/local/lib/python3.8/dist-packages (from pyarrow) (1.21.6)\n"
          ]
        }
      ],
      "source": [
        "!pip install gdown\n",
        "!pip install pyarrow"
      ]
    },
    {
      "cell_type": "code",
      "execution_count": 2,
      "id": "d1741ef6-2ef7-4491-b55f-11f0e1e242e0",
      "metadata": {
        "id": "d1741ef6-2ef7-4491-b55f-11f0e1e242e0",
        "outputId": "df9bca41-6cf8-44fa-cace-77a5bc239f50",
        "colab": {
          "base_uri": "https://localhost:8080/"
        }
      },
      "outputs": [
        {
          "output_type": "execute_result",
          "data": {
            "text/plain": [
              "['/content/who_ears_social_listening_public/merged_owid_who_ears.parquet']"
            ]
          },
          "metadata": {},
          "execution_count": 2
        }
      ],
      "source": [
        "import gdown\n",
        "\n",
        "# Location of publicly available combined set for analysis post data ingestion pipeline run\n",
        "url = \"https://drive.google.com/drive/folders/1tUcqzoeM9AaDaUexcHg-OqXJeL6f5k6U?usp=share_link\"\n",
        "gdown.download_folder(url, quiet=True, use_cookies=False)"
      ]
    },
    {
      "cell_type": "code",
      "execution_count": 3,
      "id": "7eb9d6cf-b8cb-4b33-a89f-56d386f02653",
      "metadata": {
        "id": "7eb9d6cf-b8cb-4b33-a89f-56d386f02653"
      },
      "outputs": [],
      "source": [
        "import pyarrow.parquet as pq\n",
        "\n",
        "df = pq.read_table(source=\"who_ears_social_listening_public/merged_owid_who_ears.parquet\").to_pandas()"
      ]
    },
    {
      "cell_type": "code",
      "execution_count": 4,
      "id": "df67e88b-47ef-4530-abd2-47f7227e42a3",
      "metadata": {
        "id": "df67e88b-47ef-4530-abd2-47f7227e42a3",
        "outputId": "4e5ea3b3-c771-44fd-ffe1-f61d4b256f70",
        "colab": {
          "base_uri": "https://localhost:8080/"
        }
      },
      "outputs": [
        {
          "output_type": "execute_result",
          "data": {
            "text/plain": [
              "Index(['date', 'the_cause_of_the_virus', 'covid_19_variants',\n",
              "       'demographic_vulnerability_and_risks', 'impact_on_mental_health',\n",
              "       'current_treatments', 'covid_19_vaccine',\n",
              "       'health_care_workers_and_vaccine', 'general_vaccine_discussion',\n",
              "       'science_and_r_and_d',\n",
              "       ...\n",
              "       'male_smokers', 'handwashing_facilities', 'hospital_beds_per_thousand',\n",
              "       'life_expectancy', 'human_development_index', 'population',\n",
              "       'excess_mortality_cumulative_absolute', 'excess_mortality_cumulative',\n",
              "       'excess_mortality', 'excess_mortality_cumulative_per_million'],\n",
              "      dtype='object', length=356)"
            ]
          },
          "metadata": {},
          "execution_count": 4
        }
      ],
      "source": [
        "df.columns"
      ]
    },
    {
      "cell_type": "code",
      "execution_count": 5,
      "id": "f5ed1259-6161-486e-be16-ed8cd49d33ce",
      "metadata": {
        "id": "f5ed1259-6161-486e-be16-ed8cd49d33ce",
        "outputId": "6c158f73-8526-45c0-88bf-7e64fbdd38c9",
        "colab": {
          "base_uri": "https://localhost:8080/"
        }
      },
      "outputs": [
        {
          "output_type": "execute_result",
          "data": {
            "text/plain": [
              "<bound method NDFrame.head of              date  the_cause_of_the_virus  covid_19_variants  \\\n",
              "0      2020-12-15                       0                  4   \n",
              "1      2020-12-16                       0                  1   \n",
              "2      2020-12-17                       1                  1   \n",
              "3      2020-12-18                       1                  7   \n",
              "4      2020-12-19                       0                  6   \n",
              "...           ...                     ...                ...   \n",
              "22615  2023-01-03                       1                 27   \n",
              "22616  2023-01-04                       6                 32   \n",
              "22617  2023-01-05                       4                 34   \n",
              "22618  2023-01-06                       1                 35   \n",
              "22619  2023-01-07                      11                150   \n",
              "\n",
              "       demographic_vulnerability_and_risks  impact_on_mental_health  \\\n",
              "0                                        0                        0   \n",
              "1                                        2                        1   \n",
              "2                                        1                        0   \n",
              "3                                        0                        0   \n",
              "4                                        3                        0   \n",
              "...                                    ...                      ...   \n",
              "22615                                   16                        8   \n",
              "22616                                   19                        2   \n",
              "22617                                   18                        3   \n",
              "22618                                   18                        5   \n",
              "22619                                   21                        9   \n",
              "\n",
              "       current_treatments  covid_19_vaccine  health_care_workers_and_vaccine  \\\n",
              "0                       2                 1                                0   \n",
              "1                       0                 1                                2   \n",
              "2                       1                 1                                0   \n",
              "3                       1                 3                                1   \n",
              "4                       1                 1                                1   \n",
              "...                   ...               ...                              ...   \n",
              "22615                  20               234                                0   \n",
              "22616                  13               226                                1   \n",
              "22617                  25               246                                1   \n",
              "22618                  16               164                                0   \n",
              "22619                  19               211                                1   \n",
              "\n",
              "       general_vaccine_discussion  science_and_r_and_d  ...  male_smokers  \\\n",
              "0                               1                    0  ...           NaN   \n",
              "1                               0                    0  ...           NaN   \n",
              "2                               0                    1  ...           NaN   \n",
              "3                               0                    2  ...           NaN   \n",
              "4                               0                    0  ...           NaN   \n",
              "...                           ...                  ...  ...           ...   \n",
              "22615                           9                   23  ...          33.2   \n",
              "22616                          10                   24  ...          33.2   \n",
              "22617                           4                   10  ...          33.2   \n",
              "22618                           1                    7  ...          33.2   \n",
              "22619                           0                   13  ...          33.2   \n",
              "\n",
              "       handwashing_facilities  hospital_beds_per_thousand  life_expectancy  \\\n",
              "0                      26.664                         NaN            61.15   \n",
              "1                      26.664                         NaN            61.15   \n",
              "2                      26.664                         NaN            61.15   \n",
              "3                      26.664                         NaN            61.15   \n",
              "4                      26.664                         NaN            61.15   \n",
              "...                       ...                         ...              ...   \n",
              "22615                  43.993                        2.32            64.13   \n",
              "22616                  43.993                        2.32            64.13   \n",
              "22617                  43.993                        2.32            64.13   \n",
              "22618                  43.993                        2.32            64.13   \n",
              "22619                  43.993                        2.32            64.13   \n",
              "\n",
              "       human_development_index  population  \\\n",
              "0                        0.581  35588996.0   \n",
              "1                        0.581  35588996.0   \n",
              "2                        0.581  35588996.0   \n",
              "3                        0.581  35588996.0   \n",
              "4                        0.581  35588996.0   \n",
              "...                        ...         ...   \n",
              "22615                    0.709  59893884.0   \n",
              "22616                    0.709  59893884.0   \n",
              "22617                    0.709  59893884.0   \n",
              "22618                    0.709  59893884.0   \n",
              "22619                    0.709  59893884.0   \n",
              "\n",
              "       excess_mortality_cumulative_absolute  excess_mortality_cumulative  \\\n",
              "0                                       NaN                          NaN   \n",
              "1                                       NaN                          NaN   \n",
              "2                                       NaN                          NaN   \n",
              "3                                       NaN                          NaN   \n",
              "4                                       NaN                          NaN   \n",
              "...                                     ...                          ...   \n",
              "22615                                   NaN                          NaN   \n",
              "22616                                   NaN                          NaN   \n",
              "22617                                   NaN                          NaN   \n",
              "22618                                   NaN                          NaN   \n",
              "22619                                   NaN                          NaN   \n",
              "\n",
              "       excess_mortality  excess_mortality_cumulative_per_million  \n",
              "0                   NaN                                      NaN  \n",
              "1                   NaN                                      NaN  \n",
              "2                   NaN                                      NaN  \n",
              "3                   NaN                                      NaN  \n",
              "4                   NaN                                      NaN  \n",
              "...                 ...                                      ...  \n",
              "22615               NaN                                      NaN  \n",
              "22616               NaN                                      NaN  \n",
              "22617               NaN                                      NaN  \n",
              "22618               NaN                                      NaN  \n",
              "22619               NaN                                      NaN  \n",
              "\n",
              "[22620 rows x 356 columns]>"
            ]
          },
          "metadata": {},
          "execution_count": 5
        }
      ],
      "source": [
        "df.head"
      ]
    },
    {
      "cell_type": "code",
      "execution_count": null,
      "id": "b03d3933-b571-471a-a7af-b65c442ebec3",
      "metadata": {
        "id": "b03d3933-b571-471a-a7af-b65c442ebec3"
      },
      "outputs": [],
      "source": []
    }
  ],
  "metadata": {
    "kernelspec": {
      "display_name": "Python 3 (ipykernel)",
      "language": "python",
      "name": "python3"
    },
    "language_info": {
      "codemirror_mode": {
        "name": "ipython",
        "version": 3
      },
      "file_extension": ".py",
      "mimetype": "text/x-python",
      "name": "python",
      "nbconvert_exporter": "python",
      "pygments_lexer": "ipython3",
      "version": "3.10.8"
    },
    "colab": {
      "provenance": []
    }
  },
  "nbformat": 4,
  "nbformat_minor": 5
}