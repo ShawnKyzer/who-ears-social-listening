{
 "cells": [
  {
   "cell_type": "markdown",
   "id": "ac80d806-6f8e-4a60-a9f7-c9ea6f81aa91",
   "metadata": {},
   "source": [
    "Getting Started: The code below will install the necessary dependencies in order to get started exploring the full dataset post data ingestion pipeline. You will need to run this first before the data is loaded into the notebook. "
   ]
  },
  {
   "cell_type": "code",
   "execution_count": null,
   "id": "6824c05f-f77a-4d95-86d7-f67e649c6061",
   "metadata": {},
   "outputs": [],
   "source": [
    "!pip install gdown\n",
    "!pip install pyarrow"
   ]
  },
  {
   "cell_type": "code",
   "execution_count": null,
   "id": "d1741ef6-2ef7-4491-b55f-11f0e1e242e0",
   "metadata": {},
   "outputs": [],
   "source": [
    "import gdown\n",
    "\n",
    "# Location of publicly available combined set for analysis post data ingestion pipeline run\n",
    "url = \"https://drive.google.com/drive/folders/1tUcqzoeM9AaDaUexcHg-OqXJeL6f5k6U?usp=share_link\"\n",
    "gdown.download_folder(url, quiet=True, use_cookies=False)"
   ]
  },
  {
   "cell_type": "code",
   "execution_count": null,
   "id": "7eb9d6cf-b8cb-4b33-a89f-56d386f02653",
   "metadata": {},
   "outputs": [],
   "source": [
    "import pyarrow.parquet as pq\n",
    "\n",
    "df = pq.read_table(source=\"who_ears_social_listening_public/merged_owid_who_ears.parquet\").to_pandas()"
   ]
  },
  {
   "cell_type": "code",
   "execution_count": null,
   "id": "df67e88b-47ef-4530-abd2-47f7227e42a3",
   "metadata": {},
   "outputs": [],
   "source": [
    "df.columns"
   ]
  },
  {
   "cell_type": "code",
   "execution_count": null,
   "id": "f5ed1259-6161-486e-be16-ed8cd49d33ce",
   "metadata": {},
   "outputs": [],
   "source": [
    "df.head"
   ]
  },
  {
   "cell_type": "code",
   "execution_count": null,
   "id": "b03d3933-b571-471a-a7af-b65c442ebec3",
   "metadata": {},
   "outputs": [],
   "source": []
  }
 ],
 "metadata": {
  "kernelspec": {
   "display_name": "Python 3 (ipykernel)",
   "language": "python",
   "name": "python3"
  },
  "language_info": {
   "codemirror_mode": {
    "name": "ipython",
    "version": 3
   },
   "file_extension": ".py",
   "mimetype": "text/x-python",
   "name": "python",
   "nbconvert_exporter": "python",
   "pygments_lexer": "ipython3",
   "version": "3.10.8"
  }
 },
 "nbformat": 4,
 "nbformat_minor": 5
}
