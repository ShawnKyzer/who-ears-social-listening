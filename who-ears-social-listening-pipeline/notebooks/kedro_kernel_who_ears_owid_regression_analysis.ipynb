{
 "cells": [
  {
   "cell_type": "markdown",
   "id": "7d7c90da-49d5-40ab-aa37-5444cd4cc0cb",
   "metadata": {},
   "source": [
    "NOTE: This is only intended to run with the Kedro Kernel built locally. For use externally in environements such as Google Colab and Databricks please reference the other notebooks in this folder marked as \"External_\""
   ]
  },
  {
   "cell_type": "markdown",
   "id": "da7c51a5-47b4-426f-9fce-adac4292f521",
   "metadata": {},
   "source": [
    "# Load the final set from the pipeline run with all of the data "
   ]
  },
  {
   "cell_type": "code",
   "execution_count": null,
   "id": "cda264b0-62d7-4cca-82b3-bcb74fd82643",
   "metadata": {},
   "outputs": [],
   "source": [
    "%reload_kedro\n",
    "print(catalog.list())"
   ]
  },
  {
   "cell_type": "code",
   "execution_count": null,
   "id": "bf7be02a-b73f-4936-a397-39312a692495",
   "metadata": {},
   "outputs": [],
   "source": [
    "import pandas as pd\n",
    "# load dataframe for feature analysis\n",
    "combined_data = catalog.load(\"merge_who_ears_owid_data\")\n",
    "# First we need to update our date column to a standard datetime object in python\n",
    "combined_data['date'] = pd.to_datetime(combined_data['date'], format = '%Y-%m-%d')"
   ]
  },
  {
   "cell_type": "code",
   "execution_count": null,
   "id": "57b037f7-6a2e-4f5e-928b-e99e3a4d7b35",
   "metadata": {},
   "outputs": [],
   "source": [
    "# install pycaret as a way to do some quick analysis of all regression model types to know which performs the best \n",
    "!pip install --pre pycaret\n",
    "!pip install xgboost\n",
    "!pip install --force-reinstall scikit-learn=='0.23.2' \n",
    "!pip install folium\n",
    "!pip install dtale\n",
    "# For mac you will have to do a conda install for lightgbm\n",
    "import sys\n",
    "!conda install --yes --prefix {sys.prefix} -c conda-forge lightgbm\n",
    "!pip install -U numpy\n"
   ]
  },
  {
   "cell_type": "code",
   "execution_count": null,
   "id": "12e1940e-1412-413f-91a1-7784448af48c",
   "metadata": {},
   "outputs": [],
   "source": [
    "from pycaret.regression import *\n",
    "\n",
    "# importing the required libraries\n",
    "import pandas as pd\n",
    "import numpy as np\n",
    "# Visualisation libraries\n",
    "import matplotlib.pyplot as plt\n",
    "%matplotlib inline\n",
    "import seaborn as sns\n",
    "import plotly.express as px\n",
    "import plotly.graph_objects as go\n",
    "import folium \n",
    "from folium import plugins\n",
    "\n",
    "# Manipulating the default plot size\n",
    "plt.rcParams['figure.figsize'] = 10, 12\n",
    "\n",
    "# Disable warnings \n",
    "import warnings\n",
    "warnings.filterwarnings('ignore')"
   ]
  },
  {
   "cell_type": "code",
   "execution_count": null,
   "id": "e65b53c1-b461-4497-8dbd-7b662e35ba4e",
   "metadata": {},
   "outputs": [],
   "source": [
    "combined_data.head()"
   ]
  },
  {
   "cell_type": "code",
   "execution_count": null,
   "id": "1a41968c-efb8-4574-9c95-568f57986728",
   "metadata": {},
   "outputs": [],
   "source": [
    "combined_data.dtypes"
   ]
  },
  {
   "cell_type": "markdown",
   "id": "f35393e1-046b-4808-8cff-66de8713a837",
   "metadata": {},
   "source": [
    "# Select only the features we want in order to run the model analysis"
   ]
  },
  {
   "cell_type": "code",
   "execution_count": null,
   "id": "e491e8fe-26c0-4383-869e-c3933021da43",
   "metadata": {
    "tags": []
   },
   "outputs": [],
   "source": [
    "# lets next create a sensible feature set for training and testing \n",
    "features = combined_data[['date', 'mis_and_disinformation', 'mis_and_disinformation_male',  \n",
    "                          'mis_and_disinformation_female',\n",
    "                         'myths','myths_female', 'myths_male', 'new_vaccinations_smoothed', ]]\n",
    "\n",
    "features = features.eval(\"myths_and_misinfo = myths + mis_and_disinformation\")\n",
    "features = features.eval(\"myths_and_misinfo_male = myths_male + mis_and_disinformation_male\")\n",
    "features = features.eval(\"myths_and_misinfo_female = myths_female + mis_and_disinformation_female\")\n",
    "\n",
    "# weekly_hosp_admissions and new_cases_smoothed also a good indicator \n",
    "\n",
    "features = features.dropna()\n"
   ]
  },
  {
   "cell_type": "code",
   "execution_count": null,
   "id": "02d1b7a7-5904-452b-8115-3b2d55c171a4",
   "metadata": {},
   "outputs": [],
   "source": [
    "features.head"
   ]
  },
  {
   "cell_type": "code",
   "execution_count": null,
   "id": "c6a236e8-591f-49be-bad0-5926b98a6718",
   "metadata": {},
   "outputs": [],
   "source": [
    "# lets examine the feature set \n",
    "import dtale\n",
    "dtale.show(features)"
   ]
  },
  {
   "cell_type": "code",
   "execution_count": null,
   "id": "a775a531-3417-4643-807d-72d9e2963cd8",
   "metadata": {},
   "outputs": [],
   "source": [
    "# lets setup our first session for eval\n",
    "# we chose total cases since its a complete set AND is has high correlation with the other features (Pearson)\n",
    "session_1 = setup(features, target = 'new_vaccinations_smoothed', \n",
    "                  session_id=12, \n",
    "                  log_experiment=False, \n",
    "                  experiment_name='new_vaccinations_smoothed_1')\n"
   ]
  },
  {
   "cell_type": "code",
   "execution_count": null,
   "id": "05a8c56c-e9a3-4d55-9959-ec903117b1b2",
   "metadata": {},
   "outputs": [],
   "source": [
    "# We can now compare all the regression models available \n",
    "best_model = compare_models()"
   ]
  },
  {
   "cell_type": "markdown",
   "id": "3e7402df-49a1-42da-bcf5-58443524b5c9",
   "metadata": {},
   "source": [
    "# We need to get a closer look at whats happening in the data for Vaccinations as its something we might want to consider\n"
   ]
  },
  {
   "cell_type": "markdown",
   "id": "8684e436-d9e8-42a8-8f30-bae2f5e3b1d8",
   "metadata": {},
   "source": [
    "# Experiment 2 - Vaccinations as target and overall analysis"
   ]
  },
  {
   "cell_type": "code",
   "execution_count": null,
   "id": "d380ad15-dc12-4247-9626-66cf16b19cb6",
   "metadata": {
    "tags": []
   },
   "outputs": [],
   "source": [
    "columns = ['iso_code', 'continent', 'location', 'date', 'total_vaccinations', \n",
    "           'people_vaccinated', 'people_fully_vaccinated', 'total_boosters',\n",
    "           'new_vaccinations', 'new_vaccinations_smoothed',\n",
    "           'total_vaccinations_per_hundred', 'people_vaccinated_per_hundred',\n",
    "           'people_fully_vaccinated_per_hundred', 'total_boosters_per_hundred',\n",
    "           'new_vaccinations_smoothed_per_million', 'new_people_vaccinated_smoothed',\n",
    "           'new_people_vaccinated_smoothed_per_hundred']\n",
    "\n",
    "vaccinations_owid = combined_data[columns]\n",
    "\n",
    "vaccinations_owid.head\n"
   ]
  },
  {
   "cell_type": "code",
   "execution_count": null,
   "id": "fb1703eb-ebd0-48f2-b528-c3762014cc32",
   "metadata": {
    "tags": []
   },
   "outputs": [],
   "source": [
    "# lets examine the feature set \n",
    "import dtale\n",
    "# vaccinations_owid = vaccinations_owid.dropna()\n",
    "dtale.show(vaccinations_owid)\n"
   ]
  },
  {
   "cell_type": "markdown",
   "id": "d238b344-77fd-45b9-aae6-21cb45681dfa",
   "metadata": {
    "tags": []
   },
   "source": [
    "# We observe that new_vaccinations_smoothed is the most complete"
   ]
  },
  {
   "cell_type": "code",
   "execution_count": null,
   "id": "91c50f60-c98f-486b-9f86-7dc8d0115c1e",
   "metadata": {},
   "outputs": [],
   "source": [
    "features = combined_data[['date', 'mis_and_disinformation', 'mis_and_disinformation_complaints', \n",
    "                          'mis_and_disinformation_delta', 'mis_and_disinformation_male', \n",
    "                          'mis_and_disinformation_percent', 'mis_and_disinformation_questions', \n",
    "                          'mis_and_disinformation_female',\n",
    "                         'myths', 'myths_complaints', 'myths_delta', 'myths_female', \n",
    "                          'myths_male', 'myths_percent', 'myths_questions','new_vaccinations_smoothed']]\n",
    "\n",
    "features = features.dropna()"
   ]
  },
  {
   "cell_type": "code",
   "execution_count": null,
   "id": "a9d188f2-b1f0-483c-9a22-50462b4d705b",
   "metadata": {},
   "outputs": [],
   "source": [
    "# lets setup our first session for eval\n",
    "# we chose total cases since its a complete set AND is has high correlation with the other features (Pearson)\n",
    "session_2 = setup(features, target = 'new_vaccinations_smoothed', \n",
    "                  session_id=13, \n",
    "                  log_experiment=False, \n",
    "                  experiment_name='new_vaccinations_smoothed_1')"
   ]
  },
  {
   "cell_type": "code",
   "execution_count": null,
   "id": "4b578e56-9df5-4b5b-ba6f-594cb5e7174c",
   "metadata": {},
   "outputs": [],
   "source": [
    "# We can now compare all the regression models available \n",
    "best_model = compare_models()"
   ]
  },
  {
   "cell_type": "code",
   "execution_count": null,
   "id": "f8c600b3-b754-47f3-a7fe-e7efd7420236",
   "metadata": {},
   "outputs": [],
   "source": []
  }
 ],
 "metadata": {
  "kernelspec": {
   "display_name": "Kedro (who_ears_social_listening_pipeline)",
   "language": "python",
   "name": "kedro_who_ears_social_listening_pipeline"
  },
  "language_info": {
   "codemirror_mode": {
    "name": "ipython",
    "version": 3
   },
   "file_extension": ".py",
   "mimetype": "text/x-python",
   "name": "python",
   "nbconvert_exporter": "python",
   "pygments_lexer": "ipython3",
   "version": "3.10.8"
  }
 },
 "nbformat": 4,
 "nbformat_minor": 5
}
