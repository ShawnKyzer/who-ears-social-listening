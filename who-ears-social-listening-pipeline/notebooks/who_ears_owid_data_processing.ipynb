{
 "cells": [
  {
   "cell_type": "code",
   "execution_count": 1,
   "id": "5d679180-5739-4781-b183-265eba7910ce",
   "metadata": {},
   "outputs": [
    {
     "data": {
      "text/html": [
       "<pre style=\"white-space:pre;overflow-x:auto;line-height:normal;font-family:Menlo,'DejaVu Sans Mono',consolas,'Courier New',monospace\"><span style=\"color: #7fbfbf; text-decoration-color: #7fbfbf\">[01/08/23 22:23:34] </span><span style=\"color: #000080; text-decoration-color: #000080\">INFO    </span> Resolved project path as:                                              <a href=\"file:///usr/local/anaconda3/envs/who-ears-social-listening/lib/python3.10/site-packages/kedro/ipython/__init__.py\" target=\"_blank\"><span style=\"color: #7f7f7f; text-decoration-color: #7f7f7f\">__init__.py</span></a><span style=\"color: #7f7f7f; text-decoration-color: #7f7f7f\">:</span><a href=\"file:///usr/local/anaconda3/envs/who-ears-social-listening/lib/python3.10/site-packages/kedro/ipython/__init__.py#132\" target=\"_blank\"><span style=\"color: #7f7f7f; text-decoration-color: #7f7f7f\">132</span></a>\n",
       "<span style=\"color: #7fbfbf; text-decoration-color: #7fbfbf\">                    </span>         <span style=\"color: #800080; text-decoration-color: #800080\">/Users/shawnkyzer/IdeaProjects/who-ears-social-listening/</span><span style=\"color: #ff00ff; text-decoration-color: #ff00ff\">who-ears-soci</span> <span style=\"color: #7f7f7f; text-decoration-color: #7f7f7f\">               </span>\n",
       "<span style=\"color: #7fbfbf; text-decoration-color: #7fbfbf\">                    </span>         <span style=\"color: #ff00ff; text-decoration-color: #ff00ff\">al-listening-pipeline.</span>                                                 <span style=\"color: #7f7f7f; text-decoration-color: #7f7f7f\">               </span>\n",
       "<span style=\"color: #7fbfbf; text-decoration-color: #7fbfbf\">                    </span>         To set a different path, run <span style=\"color: #008000; text-decoration-color: #008000\">'%reload_kedro &lt;project_root&gt;'</span>            <span style=\"color: #7f7f7f; text-decoration-color: #7f7f7f\">               </span>\n",
       "</pre>\n"
      ],
      "text/plain": [
       "\u001b[2;36m[01/08/23 22:23:34]\u001b[0m\u001b[2;36m \u001b[0m\u001b[34mINFO    \u001b[0m Resolved project path as:                                              \u001b]8;id=375428;file:///usr/local/anaconda3/envs/who-ears-social-listening/lib/python3.10/site-packages/kedro/ipython/__init__.py\u001b\\\u001b[2m__init__.py\u001b[0m\u001b]8;;\u001b\\\u001b[2m:\u001b[0m\u001b]8;id=194807;file:///usr/local/anaconda3/envs/who-ears-social-listening/lib/python3.10/site-packages/kedro/ipython/__init__.py#132\u001b\\\u001b[2m132\u001b[0m\u001b]8;;\u001b\\\n",
       "\u001b[2;36m                    \u001b[0m         \u001b[35m/Users/shawnkyzer/IdeaProjects/who-ears-social-listening/\u001b[0m\u001b[95mwho-ears-soci\u001b[0m \u001b[2m               \u001b[0m\n",
       "\u001b[2;36m                    \u001b[0m         \u001b[95mal-listening-pipeline.\u001b[0m                                                 \u001b[2m               \u001b[0m\n",
       "\u001b[2;36m                    \u001b[0m         To set a different path, run \u001b[32m'%reload_kedro \u001b[0m\u001b[32m<\u001b[0m\u001b[32mproject_root\u001b[0m\u001b[32m>\u001b[0m\u001b[32m'\u001b[0m            \u001b[2m               \u001b[0m\n"
      ]
     },
     "metadata": {},
     "output_type": "display_data"
    },
    {
     "data": {
      "text/html": [
       "<pre style=\"white-space:pre;overflow-x:auto;line-height:normal;font-family:Menlo,'DejaVu Sans Mono',consolas,'Courier New',monospace\"><span style=\"color: #7fbfbf; text-decoration-color: #7fbfbf\">[01/08/23 22:23:35] </span><span style=\"color: #000080; text-decoration-color: #000080\">INFO    </span> Kedro project who-ears-social-listening-pipeline                       <a href=\"file:///usr/local/anaconda3/envs/who-ears-social-listening/lib/python3.10/site-packages/kedro/ipython/__init__.py\" target=\"_blank\"><span style=\"color: #7f7f7f; text-decoration-color: #7f7f7f\">__init__.py</span></a><span style=\"color: #7f7f7f; text-decoration-color: #7f7f7f\">:</span><a href=\"file:///usr/local/anaconda3/envs/who-ears-social-listening/lib/python3.10/site-packages/kedro/ipython/__init__.py#101\" target=\"_blank\"><span style=\"color: #7f7f7f; text-decoration-color: #7f7f7f\">101</span></a>\n",
       "</pre>\n"
      ],
      "text/plain": [
       "\u001b[2;36m[01/08/23 22:23:35]\u001b[0m\u001b[2;36m \u001b[0m\u001b[34mINFO    \u001b[0m Kedro project who-ears-social-listening-pipeline                       \u001b]8;id=587530;file:///usr/local/anaconda3/envs/who-ears-social-listening/lib/python3.10/site-packages/kedro/ipython/__init__.py\u001b\\\u001b[2m__init__.py\u001b[0m\u001b]8;;\u001b\\\u001b[2m:\u001b[0m\u001b]8;id=388394;file:///usr/local/anaconda3/envs/who-ears-social-listening/lib/python3.10/site-packages/kedro/ipython/__init__.py#101\u001b\\\u001b[2m101\u001b[0m\u001b]8;;\u001b\\\n"
      ]
     },
     "metadata": {},
     "output_type": "display_data"
    },
    {
     "data": {
      "text/html": [
       "<pre style=\"white-space:pre;overflow-x:auto;line-height:normal;font-family:Menlo,'DejaVu Sans Mono',consolas,'Courier New',monospace\"><span style=\"color: #7fbfbf; text-decoration-color: #7fbfbf\">                    </span><span style=\"color: #000080; text-decoration-color: #000080\">INFO    </span> Defined global variable <span style=\"color: #008000; text-decoration-color: #008000\">'context'</span>, <span style=\"color: #008000; text-decoration-color: #008000\">'session'</span>, <span style=\"color: #008000; text-decoration-color: #008000\">'catalog'</span> and            <a href=\"file:///usr/local/anaconda3/envs/who-ears-social-listening/lib/python3.10/site-packages/kedro/ipython/__init__.py\" target=\"_blank\"><span style=\"color: #7f7f7f; text-decoration-color: #7f7f7f\">__init__.py</span></a><span style=\"color: #7f7f7f; text-decoration-color: #7f7f7f\">:</span><a href=\"file:///usr/local/anaconda3/envs/who-ears-social-listening/lib/python3.10/site-packages/kedro/ipython/__init__.py#102\" target=\"_blank\"><span style=\"color: #7f7f7f; text-decoration-color: #7f7f7f\">102</span></a>\n",
       "<span style=\"color: #7fbfbf; text-decoration-color: #7fbfbf\">                    </span>         <span style=\"color: #008000; text-decoration-color: #008000\">'pipelines'</span>                                                            <span style=\"color: #7f7f7f; text-decoration-color: #7f7f7f\">               </span>\n",
       "</pre>\n"
      ],
      "text/plain": [
       "\u001b[2;36m                   \u001b[0m\u001b[2;36m \u001b[0m\u001b[34mINFO    \u001b[0m Defined global variable \u001b[32m'context'\u001b[0m, \u001b[32m'session'\u001b[0m, \u001b[32m'catalog'\u001b[0m and            \u001b]8;id=348934;file:///usr/local/anaconda3/envs/who-ears-social-listening/lib/python3.10/site-packages/kedro/ipython/__init__.py\u001b\\\u001b[2m__init__.py\u001b[0m\u001b]8;;\u001b\\\u001b[2m:\u001b[0m\u001b]8;id=752340;file:///usr/local/anaconda3/envs/who-ears-social-listening/lib/python3.10/site-packages/kedro/ipython/__init__.py#102\u001b\\\u001b[2m102\u001b[0m\u001b]8;;\u001b\\\n",
       "\u001b[2;36m                    \u001b[0m         \u001b[32m'pipelines'\u001b[0m                                                            \u001b[2m               \u001b[0m\n"
      ]
     },
     "metadata": {},
     "output_type": "display_data"
    },
    {
     "data": {
      "text/html": [
       "<pre style=\"white-space:pre;overflow-x:auto;line-height:normal;font-family:Menlo,'DejaVu Sans Mono',consolas,'Courier New',monospace\"><span style=\"color: #7fbfbf; text-decoration-color: #7fbfbf\">                    </span><span style=\"color: #000080; text-decoration-color: #000080\">INFO    </span> Registered line magic <span style=\"color: #008000; text-decoration-color: #008000\">'run_viz'</span>                                        <a href=\"file:///usr/local/anaconda3/envs/who-ears-social-listening/lib/python3.10/site-packages/kedro/ipython/__init__.py\" target=\"_blank\"><span style=\"color: #7f7f7f; text-decoration-color: #7f7f7f\">__init__.py</span></a><span style=\"color: #7f7f7f; text-decoration-color: #7f7f7f\">:</span><a href=\"file:///usr/local/anaconda3/envs/who-ears-social-listening/lib/python3.10/site-packages/kedro/ipython/__init__.py#108\" target=\"_blank\"><span style=\"color: #7f7f7f; text-decoration-color: #7f7f7f\">108</span></a>\n",
       "</pre>\n"
      ],
      "text/plain": [
       "\u001b[2;36m                   \u001b[0m\u001b[2;36m \u001b[0m\u001b[34mINFO    \u001b[0m Registered line magic \u001b[32m'run_viz'\u001b[0m                                        \u001b]8;id=127251;file:///usr/local/anaconda3/envs/who-ears-social-listening/lib/python3.10/site-packages/kedro/ipython/__init__.py\u001b\\\u001b[2m__init__.py\u001b[0m\u001b]8;;\u001b\\\u001b[2m:\u001b[0m\u001b]8;id=239955;file:///usr/local/anaconda3/envs/who-ears-social-listening/lib/python3.10/site-packages/kedro/ipython/__init__.py#108\u001b\\\u001b[2m108\u001b[0m\u001b]8;;\u001b\\\n"
      ]
     },
     "metadata": {},
     "output_type": "display_data"
    },
    {
     "name": "stdout",
     "output_type": "stream",
     "text": [
      "['raw_daily_owid', 'raw_daily_who_ears', 'who_ears_doc_mapping', 'merged_daily_who_ears', 'processed_daily_who_ears', 'merge_who_ears_owid_data', 'parameters']\n"
     ]
    }
   ],
   "source": [
    "%reload_kedro\n",
    "print(catalog.list())"
   ]
  },
  {
   "cell_type": "code",
   "execution_count": null,
   "id": "a7a0f84b-22f0-432a-8987-4198956815c8",
   "metadata": {},
   "outputs": [],
   "source": [
    "#lets load the data to get started \n",
    "who_ears = catalog.load('raw_daily_who_ears')"
   ]
  },
  {
   "cell_type": "code",
   "execution_count": null,
   "id": "63060533-b407-411c-994f-627e5bb87584",
   "metadata": {
    "tags": [
     "node"
    ]
   },
   "outputs": [],
   "source": [
    "# A function so that we can combine all the partitions from the various csv files\n",
    "\n",
    "from typing import Any, Callable, Dict\n",
    "import pandas as pd\n",
    "from datetime import timedelta, datetime as dt\n",
    "\n",
    "def merge_data(partitioned_input: Dict[str, Callable[[], Any]]) -> pd.DataFrame:\n",
    "    merged_df = pd.DataFrame()\n",
    "    for partition_id, partition_load_func in sorted(partitioned_input.items()):\n",
    "        partition_data = partition_load_func()  # Load partition data\n",
    "        merged_df = pd.concat([merged_df, partition_data], ignore_index=True, sort=True)\n",
    "    return merged_df\n",
    "\n"
   ]
  },
  {
   "cell_type": "code",
   "execution_count": null,
   "id": "62606d9a-5de9-4f6b-9349-b889671a4eb5",
   "metadata": {},
   "outputs": [],
   "source": [
    "# test function\n",
    "result = merge_data(who_ears)"
   ]
  },
  {
   "cell_type": "code",
   "execution_count": null,
   "id": "3ed0cef7-9a6a-4739-9b92-0965ccb6e13d",
   "metadata": {},
   "outputs": [],
   "source": [
    "print(result.columns)"
   ]
  },
  {
   "cell_type": "code",
   "execution_count": 2,
   "id": "71e29070-5e2e-41a4-ac35-25ceb3a3d60f",
   "metadata": {},
   "outputs": [
    {
     "data": {
      "text/html": [
       "<pre style=\"white-space:pre;overflow-x:auto;line-height:normal;font-family:Menlo,'DejaVu Sans Mono',consolas,'Courier New',monospace\"><span style=\"color: #7fbfbf; text-decoration-color: #7fbfbf\">[01/08/23 22:23:45] </span><span style=\"color: #000080; text-decoration-color: #000080\">INFO    </span> Loading data from <span style=\"color: #008000; text-decoration-color: #008000\">'merge_who_ears_owid_data'</span> <span style=\"font-weight: bold\">(</span>ParquetDataSet<span style=\"font-weight: bold\">)</span><span style=\"color: #808000; text-decoration-color: #808000\">...</span>   <a href=\"file:///usr/local/anaconda3/envs/who-ears-social-listening/lib/python3.10/site-packages/kedro/io/data_catalog.py\" target=\"_blank\"><span style=\"color: #7f7f7f; text-decoration-color: #7f7f7f\">data_catalog.py</span></a><span style=\"color: #7f7f7f; text-decoration-color: #7f7f7f\">:</span><a href=\"file:///usr/local/anaconda3/envs/who-ears-social-listening/lib/python3.10/site-packages/kedro/io/data_catalog.py#343\" target=\"_blank\"><span style=\"color: #7f7f7f; text-decoration-color: #7f7f7f\">343</span></a>\n",
       "</pre>\n"
      ],
      "text/plain": [
       "\u001b[2;36m[01/08/23 22:23:45]\u001b[0m\u001b[2;36m \u001b[0m\u001b[34mINFO    \u001b[0m Loading data from \u001b[32m'merge_who_ears_owid_data'\u001b[0m \u001b[1m(\u001b[0mParquetDataSet\u001b[1m)\u001b[0m\u001b[33m...\u001b[0m   \u001b]8;id=293235;file:///usr/local/anaconda3/envs/who-ears-social-listening/lib/python3.10/site-packages/kedro/io/data_catalog.py\u001b\\\u001b[2mdata_catalog.py\u001b[0m\u001b]8;;\u001b\\\u001b[2m:\u001b[0m\u001b]8;id=33483;file:///usr/local/anaconda3/envs/who-ears-social-listening/lib/python3.10/site-packages/kedro/io/data_catalog.py#343\u001b\\\u001b[2m343\u001b[0m\u001b]8;;\u001b\\\n"
      ]
     },
     "metadata": {},
     "output_type": "display_data"
    }
   ],
   "source": [
    "#lets load the data to get started \n",
    "who_ears_owid = catalog.load('merge_who_ears_owid_data')"
   ]
  },
  {
   "cell_type": "code",
   "execution_count": null,
   "id": "df7adad7-5c1d-4217-94e7-5d2f9fc06fc9",
   "metadata": {},
   "outputs": [],
   "source": [
    "print(who_ears_owid.columns)"
   ]
  },
  {
   "cell_type": "code",
   "execution_count": 4,
   "id": "9c59d9e3-2e4e-4f9d-80a2-7876d3d35f60",
   "metadata": {},
   "outputs": [
    {
     "name": "stdout",
     "output_type": "stream",
     "text": [
      "Requirement already satisfied: dtale in /usr/local/anaconda3/envs/who-ears-social-listening/lib/python3.10/site-packages (2.9.1)\n",
      "Requirement already satisfied: six in /usr/local/anaconda3/envs/who-ears-social-listening/lib/python3.10/site-packages (from dtale) (1.16.0)\n",
      "Requirement already satisfied: numpy in /usr/local/anaconda3/envs/who-ears-social-listening/lib/python3.10/site-packages (from dtale) (1.24.1)\n",
      "Requirement already satisfied: xlrd in /usr/local/anaconda3/envs/who-ears-social-listening/lib/python3.10/site-packages (from dtale) (2.0.1)\n",
      "Requirement already satisfied: dash-colorscales in /usr/local/anaconda3/envs/who-ears-social-listening/lib/python3.10/site-packages (from dtale) (0.0.4)\n",
      "Requirement already satisfied: pandas in /usr/local/anaconda3/envs/who-ears-social-listening/lib/python3.10/site-packages (from dtale) (1.5.2)\n",
      "Requirement already satisfied: scipy==1.9.3 in /usr/local/anaconda3/envs/who-ears-social-listening/lib/python3.10/site-packages (from dtale) (1.9.3)\n",
      "Requirement already satisfied: matplotlib in /usr/local/anaconda3/envs/who-ears-social-listening/lib/python3.10/site-packages (from dtale) (3.6.2)\n",
      "Requirement already satisfied: dash>=2.0.0 in /usr/local/anaconda3/envs/who-ears-social-listening/lib/python3.10/site-packages (from dtale) (2.7.1)\n",
      "Requirement already satisfied: itsdangerous in /usr/local/anaconda3/envs/who-ears-social-listening/lib/python3.10/site-packages (from dtale) (2.1.2)\n",
      "Requirement already satisfied: flask-ngrok in /usr/local/anaconda3/envs/who-ears-social-listening/lib/python3.10/site-packages (from dtale) (0.0.25)\n",
      "Requirement already satisfied: certifi in /usr/local/anaconda3/envs/who-ears-social-listening/lib/python3.10/site-packages (from dtale) (2022.12.7)\n",
      "Requirement already satisfied: Flask in /usr/local/anaconda3/envs/who-ears-social-listening/lib/python3.10/site-packages (from dtale) (2.2.2)\n",
      "Requirement already satisfied: cycler in /usr/local/anaconda3/envs/who-ears-social-listening/lib/python3.10/site-packages (from dtale) (0.11.0)\n",
      "Requirement already satisfied: xarray in /usr/local/anaconda3/envs/who-ears-social-listening/lib/python3.10/site-packages (from dtale) (2022.12.0)\n",
      "Requirement already satisfied: et-xmlfile in /usr/local/anaconda3/envs/who-ears-social-listening/lib/python3.10/site-packages (from dtale) (1.1.0)\n",
      "Requirement already satisfied: kaleido in /usr/local/anaconda3/envs/who-ears-social-listening/lib/python3.10/site-packages (from dtale) (0.2.1)\n",
      "Requirement already satisfied: strsimpy in /usr/local/anaconda3/envs/who-ears-social-listening/lib/python3.10/site-packages (from dtale) (0.2.1)\n",
      "Requirement already satisfied: lz4 in /usr/local/anaconda3/envs/who-ears-social-listening/lib/python3.10/site-packages (from dtale) (4.3.2)\n",
      "Requirement already satisfied: future>=0.14.0 in /usr/local/anaconda3/envs/who-ears-social-listening/lib/python3.10/site-packages (from dtale) (0.18.2)\n",
      "Requirement already satisfied: missingno<=0.4.2 in /usr/local/anaconda3/envs/who-ears-social-listening/lib/python3.10/site-packages (from dtale) (0.4.2)\n",
      "Requirement already satisfied: dash-bootstrap-components in /usr/local/anaconda3/envs/who-ears-social-listening/lib/python3.10/site-packages (from dtale) (1.3.0)\n",
      "Requirement already satisfied: statsmodels in /usr/local/anaconda3/envs/who-ears-social-listening/lib/python3.10/site-packages (from dtale) (0.13.5)\n",
      "Requirement already satisfied: requests in /usr/local/anaconda3/envs/who-ears-social-listening/lib/python3.10/site-packages (from dtale) (2.28.1)\n",
      "Requirement already satisfied: networkx in /usr/local/anaconda3/envs/who-ears-social-listening/lib/python3.10/site-packages (from dtale) (3.0)\n",
      "Requirement already satisfied: seaborn in /usr/local/anaconda3/envs/who-ears-social-listening/lib/python3.10/site-packages (from dtale) (0.12.2)\n",
      "Requirement already satisfied: scikit-learn in /usr/local/anaconda3/envs/who-ears-social-listening/lib/python3.10/site-packages (from dtale) (1.2.0)\n",
      "Requirement already satisfied: Flask-Compress in /usr/local/anaconda3/envs/who-ears-social-listening/lib/python3.10/site-packages (from dtale) (1.13)\n",
      "Requirement already satisfied: dash-daq in /usr/local/anaconda3/envs/who-ears-social-listening/lib/python3.10/site-packages (from dtale) (0.5.0)\n",
      "Requirement already satisfied: squarify in /usr/local/anaconda3/envs/who-ears-social-listening/lib/python3.10/site-packages (from dtale) (0.4.3)\n",
      "Requirement already satisfied: openpyxl in /usr/local/anaconda3/envs/who-ears-social-listening/lib/python3.10/site-packages (from dtale) (3.0.10)\n",
      "Requirement already satisfied: plotly>=5.0.0 in /usr/local/anaconda3/envs/who-ears-social-listening/lib/python3.10/site-packages (from dtale) (5.11.0)\n",
      "Requirement already satisfied: dash-html-components==2.0.0 in /usr/local/anaconda3/envs/who-ears-social-listening/lib/python3.10/site-packages (from dash>=2.0.0->dtale) (2.0.0)\n",
      "Requirement already satisfied: dash-table==5.0.0 in /usr/local/anaconda3/envs/who-ears-social-listening/lib/python3.10/site-packages (from dash>=2.0.0->dtale) (5.0.0)\n",
      "Requirement already satisfied: dash-core-components==2.0.0 in /usr/local/anaconda3/envs/who-ears-social-listening/lib/python3.10/site-packages (from dash>=2.0.0->dtale) (2.0.0)\n",
      "Requirement already satisfied: click>=8.0 in /usr/local/anaconda3/envs/who-ears-social-listening/lib/python3.10/site-packages (from Flask->dtale) (8.1.3)\n",
      "Requirement already satisfied: Werkzeug>=2.2.2 in /usr/local/anaconda3/envs/who-ears-social-listening/lib/python3.10/site-packages (from Flask->dtale) (2.2.2)\n",
      "Requirement already satisfied: Jinja2>=3.0 in /usr/local/anaconda3/envs/who-ears-social-listening/lib/python3.10/site-packages (from Flask->dtale) (3.1.2)\n",
      "Requirement already satisfied: tenacity>=6.2.0 in /usr/local/anaconda3/envs/who-ears-social-listening/lib/python3.10/site-packages (from plotly>=5.0.0->dtale) (8.1.0)\n",
      "Requirement already satisfied: brotli in /usr/local/anaconda3/envs/who-ears-social-listening/lib/python3.10/site-packages (from Flask-Compress->dtale) (1.0.9)\n",
      "Requirement already satisfied: pyparsing>=2.2.1 in /usr/local/anaconda3/envs/who-ears-social-listening/lib/python3.10/site-packages (from matplotlib->dtale) (3.0.9)\n",
      "Requirement already satisfied: pillow>=6.2.0 in /usr/local/anaconda3/envs/who-ears-social-listening/lib/python3.10/site-packages (from matplotlib->dtale) (9.4.0)\n",
      "Requirement already satisfied: python-dateutil>=2.7 in /usr/local/anaconda3/envs/who-ears-social-listening/lib/python3.10/site-packages (from matplotlib->dtale) (2.8.2)\n",
      "Requirement already satisfied: kiwisolver>=1.0.1 in /usr/local/anaconda3/envs/who-ears-social-listening/lib/python3.10/site-packages (from matplotlib->dtale) (1.4.4)\n",
      "Requirement already satisfied: fonttools>=4.22.0 in /usr/local/anaconda3/envs/who-ears-social-listening/lib/python3.10/site-packages (from matplotlib->dtale) (4.38.0)\n",
      "Requirement already satisfied: contourpy>=1.0.1 in /usr/local/anaconda3/envs/who-ears-social-listening/lib/python3.10/site-packages (from matplotlib->dtale) (1.0.6)\n",
      "Requirement already satisfied: packaging>=20.0 in /usr/local/anaconda3/envs/who-ears-social-listening/lib/python3.10/site-packages (from matplotlib->dtale) (22.0)\n",
      "Requirement already satisfied: pytz>=2020.1 in /usr/local/anaconda3/envs/who-ears-social-listening/lib/python3.10/site-packages (from pandas->dtale) (2022.7)\n",
      "Requirement already satisfied: idna<4,>=2.5 in /usr/local/anaconda3/envs/who-ears-social-listening/lib/python3.10/site-packages (from requests->dtale) (3.4)\n",
      "Requirement already satisfied: urllib3<1.27,>=1.21.1 in /usr/local/anaconda3/envs/who-ears-social-listening/lib/python3.10/site-packages (from requests->dtale) (1.26.13)\n",
      "Requirement already satisfied: charset-normalizer<3,>=2 in /usr/local/anaconda3/envs/who-ears-social-listening/lib/python3.10/site-packages (from requests->dtale) (2.1.1)\n",
      "Requirement already satisfied: joblib>=1.1.1 in /usr/local/anaconda3/envs/who-ears-social-listening/lib/python3.10/site-packages (from scikit-learn->dtale) (1.2.0)\n",
      "Requirement already satisfied: threadpoolctl>=2.0.0 in /usr/local/anaconda3/envs/who-ears-social-listening/lib/python3.10/site-packages (from scikit-learn->dtale) (3.1.0)\n",
      "Requirement already satisfied: patsy>=0.5.2 in /usr/local/anaconda3/envs/who-ears-social-listening/lib/python3.10/site-packages (from statsmodels->dtale) (0.5.3)\n",
      "Requirement already satisfied: MarkupSafe>=2.0 in /usr/local/anaconda3/envs/who-ears-social-listening/lib/python3.10/site-packages (from Jinja2>=3.0->Flask->dtale) (2.1.1)\n"
     ]
    }
   ],
   "source": [
    "!pip install dtale"
   ]
  },
  {
   "cell_type": "code",
   "execution_count": 7,
   "id": "c1f4a92b-ab6b-4be5-8ffc-c80867e3b896",
   "metadata": {},
   "outputs": [
    {
     "name": "stderr",
     "output_type": "stream",
     "text": [
      "2023-01-08 22:25:27,466 - WARNING  - /usr/local/anaconda3/envs/who-ears-social-listening/lib/python3.10/site-packages/dtale/views.py:746: FutureWarning:\n",
      "\n",
      "['tests_units'] did not aggregate successfully. If any error is raised this will raise in a future version of pandas. Drop these columns/ops to avoid this warning.\n",
      "\n",
      "\n"
     ]
    },
    {
     "data": {
      "text/html": [
       "\n",
       "        <iframe\n",
       "            width=\"100%\"\n",
       "            height=\"475\"\n",
       "            src=\"http://Shawns-MBP-2:40000/dtale/iframe/1\"\n",
       "            frameborder=\"0\"\n",
       "            allowfullscreen\n",
       "            \n",
       "        ></iframe>\n",
       "        "
      ]
     },
     "metadata": {},
     "output_type": "display_data"
    },
    {
     "data": {
      "text/html": [
       "<pre style=\"white-space:pre;overflow-x:auto;line-height:normal;font-family:Menlo,'DejaVu Sans Mono',consolas,'Courier New',monospace\"><span style=\"color: #7f7f7f; text-decoration-color: #7f7f7f; font-style: italic\">&lt;class 'dtale.views.DtaleData'&gt;.__repr__ returned empty string</span>\n",
       "</pre>\n"
      ],
      "text/plain": [
       "\u001b[2;3m<class 'dtale.views.DtaleData'>.__repr__ returned empty string\u001b[0m\n"
      ]
     },
     "metadata": {},
     "output_type": "display_data"
    },
    {
     "name": "stderr",
     "output_type": "stream",
     "text": [
      "2023-01-08 22:26:10,456 - WARNING  - /usr/local/anaconda3/envs/who-ears-social-listening/lib/python3.10/site-packages/dtale/correlations.py:33: FutureWarning:\n",
      "\n",
      "The default value of numeric_only in DataFrame.corr is deprecated. In a future version, it will default to False. Select only valid columns or specify the value of numeric_only to silence this warning.\n",
      "\n",
      "\n"
     ]
    },
    {
     "name": "stdout",
     "output_type": "stream",
     "text": [
      "Exception occurred while processing request: The number of FixedLocator locations (0), usually from a call to set_ticks, does not match the number of ticklabels (356).\n",
      "Traceback (most recent call last):\n",
      "  File \"/usr/local/anaconda3/envs/who-ears-social-listening/lib/python3.10/site-packages/dtale/views.py\", line 111, in _handle_exceptions\n",
      "    return func(*args, **kwargs)\n",
      "  File \"/usr/local/anaconda3/envs/who-ears-social-listening/lib/python3.10/site-packages/dtale/views.py\", line 3785, in build_missingno_chart\n",
      "    figure = msno.bar(df)\n",
      "  File \"/usr/local/anaconda3/envs/who-ears-social-listening/lib/python3.10/site-packages/missingno/missingno.py\", line 266, in bar\n",
      "    ax3.set_xticklabels(nullity_counts.values, fontsize=fontsize, rotation=45, ha='left')\n",
      "  File \"/usr/local/anaconda3/envs/who-ears-social-listening/lib/python3.10/site-packages/matplotlib/axes/_base.py\", line 73, in wrapper\n",
      "    return get_method(self)(*args, **kwargs)\n",
      "  File \"/usr/local/anaconda3/envs/who-ears-social-listening/lib/python3.10/site-packages/matplotlib/axis.py\", line 1968, in _set_ticklabels\n",
      "    return self.set_ticklabels(labels, minor=minor, **kwargs)\n",
      "  File \"/usr/local/anaconda3/envs/who-ears-social-listening/lib/python3.10/site-packages/matplotlib/axis.py\", line 1890, in set_ticklabels\n",
      "    raise ValueError(\n",
      "ValueError: The number of FixedLocator locations (0), usually from a call to set_ticks, does not match the number of ticklabels (356).\n"
     ]
    },
    {
     "name": "stderr",
     "output_type": "stream",
     "text": [
      "2023-01-08 22:33:28,488 - ERROR    - Exception occurred while processing request: The number of FixedLocator locations (0), usually from a call to set_ticks, does not match the number of ticklabels (356).\n",
      "Traceback (most recent call last):\n",
      "  File \"/usr/local/anaconda3/envs/who-ears-social-listening/lib/python3.10/site-packages/dtale/views.py\", line 111, in _handle_exceptions\n",
      "    return func(*args, **kwargs)\n",
      "  File \"/usr/local/anaconda3/envs/who-ears-social-listening/lib/python3.10/site-packages/dtale/views.py\", line 3785, in build_missingno_chart\n",
      "    figure = msno.bar(df)\n",
      "  File \"/usr/local/anaconda3/envs/who-ears-social-listening/lib/python3.10/site-packages/missingno/missingno.py\", line 266, in bar\n",
      "    ax3.set_xticklabels(nullity_counts.values, fontsize=fontsize, rotation=45, ha='left')\n",
      "  File \"/usr/local/anaconda3/envs/who-ears-social-listening/lib/python3.10/site-packages/matplotlib/axes/_base.py\", line 73, in wrapper\n",
      "    return get_method(self)(*args, **kwargs)\n",
      "  File \"/usr/local/anaconda3/envs/who-ears-social-listening/lib/python3.10/site-packages/matplotlib/axis.py\", line 1968, in _set_ticklabels\n",
      "    return self.set_ticklabels(labels, minor=minor, **kwargs)\n",
      "  File \"/usr/local/anaconda3/envs/who-ears-social-listening/lib/python3.10/site-packages/matplotlib/axis.py\", line 1890, in set_ticklabels\n",
      "    raise ValueError(\n",
      "ValueError: The number of FixedLocator locations (0), usually from a call to set_ticks, does not match the number of ticklabels (356).\n",
      "2023-01-08 22:33:31,538 - WARNING  - /usr/local/anaconda3/envs/who-ears-social-listening/lib/python3.10/site-packages/missingno/missingno.py:437: MatplotlibDeprecationWarning:\n",
      "\n",
      "The 'b' parameter of grid() has been renamed 'visible' since Matplotlib 3.5; support for the old name will be dropped two minor releases later.\n",
      "\n",
      "\n",
      "2023-01-08 22:33:44,698 - WARNING  - /usr/local/anaconda3/envs/who-ears-social-listening/lib/python3.10/site-packages/missingno/missingno.py:72: MatplotlibDeprecationWarning:\n",
      "\n",
      "The 'b' parameter of grid() has been renamed 'visible' since Matplotlib 3.5; support for the old name will be dropped two minor releases later.\n",
      "\n",
      "\n",
      "2023-01-08 22:33:44,899 - WARNING  - /usr/local/anaconda3/envs/who-ears-social-listening/lib/python3.10/site-packages/missingno/missingno.py:141: MatplotlibDeprecationWarning:\n",
      "\n",
      "The 'b' parameter of grid() has been renamed 'visible' since Matplotlib 3.5; support for the old name will be dropped two minor releases later.\n",
      "\n",
      "\n",
      "2023-01-08 22:34:05,813 - WARNING  - /usr/local/anaconda3/envs/who-ears-social-listening/lib/python3.10/site-packages/dtale/views.py:1958: FutureWarning:\n",
      "\n",
      "The default value of regex will change from True to False in a future version.\n",
      "\n",
      "\n"
     ]
    },
    {
     "name": "stdout",
     "output_type": "stream",
     "text": [
      "Exception occurred while processing request: Can only use .str accessor with string values!\n",
      "Traceback (most recent call last):\n",
      "  File \"/usr/local/anaconda3/envs/who-ears-social-listening/lib/python3.10/site-packages/dtale/views.py\", line 111, in _handle_exceptions\n",
      "    return func(*args, **kwargs)\n",
      "  File \"/usr/local/anaconda3/envs/who-ears-social-listening/lib/python3.10/site-packages/dtale/views.py\", line 2737, in get_column_analysis\n",
      "    return jsonify(**analysis.build())\n",
      "  File \"/usr/local/anaconda3/envs/who-ears-social-listening/lib/python3.10/site-packages/dtale/column_analysis.py\", line 137, in build\n",
      "    return_data, code = self.analysis.build(self)\n",
      "  File \"/usr/local/anaconda3/envs/who-ears-social-listening/lib/python3.10/site-packages/dtale/column_analysis.py\", line 446, in build\n",
      "    hist = self.build_hist(s, code)\n",
      "  File \"/usr/local/anaconda3/envs/who-ears-social-listening/lib/python3.10/site-packages/dtale/column_analysis.py\", line 499, in build_hist\n",
      "    pd.value_counts(s.str.split(expand=True).stack())\n",
      "  File \"/usr/local/anaconda3/envs/who-ears-social-listening/lib/python3.10/site-packages/pandas/core/generic.py\", line 5902, in __getattr__\n",
      "    return object.__getattribute__(self, name)\n",
      "  File \"/usr/local/anaconda3/envs/who-ears-social-listening/lib/python3.10/site-packages/pandas/core/accessor.py\", line 182, in __get__\n",
      "    accessor_obj = self._accessor(obj)\n",
      "  File \"/usr/local/anaconda3/envs/who-ears-social-listening/lib/python3.10/site-packages/pandas/core/strings/accessor.py\", line 181, in __init__\n",
      "    self._inferred_dtype = self._validate(data)\n",
      "  File \"/usr/local/anaconda3/envs/who-ears-social-listening/lib/python3.10/site-packages/pandas/core/strings/accessor.py\", line 235, in _validate\n",
      "    raise AttributeError(\"Can only use .str accessor with string values!\")\n",
      "AttributeError: Can only use .str accessor with string values!\n"
     ]
    },
    {
     "name": "stderr",
     "output_type": "stream",
     "text": [
      "2023-01-08 22:39:31,673 - ERROR    - Exception occurred while processing request: Can only use .str accessor with string values!\n",
      "Traceback (most recent call last):\n",
      "  File \"/usr/local/anaconda3/envs/who-ears-social-listening/lib/python3.10/site-packages/dtale/views.py\", line 111, in _handle_exceptions\n",
      "    return func(*args, **kwargs)\n",
      "  File \"/usr/local/anaconda3/envs/who-ears-social-listening/lib/python3.10/site-packages/dtale/views.py\", line 2737, in get_column_analysis\n",
      "    return jsonify(**analysis.build())\n",
      "  File \"/usr/local/anaconda3/envs/who-ears-social-listening/lib/python3.10/site-packages/dtale/column_analysis.py\", line 137, in build\n",
      "    return_data, code = self.analysis.build(self)\n",
      "  File \"/usr/local/anaconda3/envs/who-ears-social-listening/lib/python3.10/site-packages/dtale/column_analysis.py\", line 446, in build\n",
      "    hist = self.build_hist(s, code)\n",
      "  File \"/usr/local/anaconda3/envs/who-ears-social-listening/lib/python3.10/site-packages/dtale/column_analysis.py\", line 499, in build_hist\n",
      "    pd.value_counts(s.str.split(expand=True).stack())\n",
      "  File \"/usr/local/anaconda3/envs/who-ears-social-listening/lib/python3.10/site-packages/pandas/core/generic.py\", line 5902, in __getattr__\n",
      "    return object.__getattribute__(self, name)\n",
      "  File \"/usr/local/anaconda3/envs/who-ears-social-listening/lib/python3.10/site-packages/pandas/core/accessor.py\", line 182, in __get__\n",
      "    accessor_obj = self._accessor(obj)\n",
      "  File \"/usr/local/anaconda3/envs/who-ears-social-listening/lib/python3.10/site-packages/pandas/core/strings/accessor.py\", line 181, in __init__\n",
      "    self._inferred_dtype = self._validate(data)\n",
      "  File \"/usr/local/anaconda3/envs/who-ears-social-listening/lib/python3.10/site-packages/pandas/core/strings/accessor.py\", line 235, in _validate\n",
      "    raise AttributeError(\"Can only use .str accessor with string values!\")\n",
      "AttributeError: Can only use .str accessor with string values!\n",
      "2023-01-08 22:47:11,687 - WARNING  - /usr/local/anaconda3/envs/who-ears-social-listening/lib/python3.10/site-packages/dtale/correlations.py:33: FutureWarning:\n",
      "\n",
      "The default value of numeric_only in DataFrame.corr is deprecated. In a future version, it will default to False. Select only valid columns or specify the value of numeric_only to silence this warning.\n",
      "\n",
      "\n"
     ]
    }
   ],
   "source": [
    "import dtale\n",
    "dtale.show(who_ears_owid)"
   ]
  },
  {
   "cell_type": "code",
   "execution_count": null,
   "id": "1548388c-ca7d-49cf-9ce6-3f3f5003dca7",
   "metadata": {},
   "outputs": [],
   "source": []
  }
 ],
 "metadata": {
  "kernelspec": {
   "display_name": "Kedro (who_ears_social_listening_pipeline)",
   "language": "python",
   "name": "kedro_who_ears_social_listening_pipeline"
  },
  "language_info": {
   "codemirror_mode": {
    "name": "ipython",
    "version": 3
   },
   "file_extension": ".py",
   "mimetype": "text/x-python",
   "name": "python",
   "nbconvert_exporter": "python",
   "pygments_lexer": "ipython3",
   "version": "3.10.8"
  }
 },
 "nbformat": 4,
 "nbformat_minor": 5
}
