{
 "cells": [
  {
   "cell_type": "code",
   "execution_count": null,
   "id": "5d679180-5739-4781-b183-265eba7910ce",
   "metadata": {},
   "outputs": [],
   "source": [
    "%reload_kedro\n",
    "print(catalog.list())"
   ]
  },
  {
   "cell_type": "code",
   "execution_count": null,
   "id": "a7a0f84b-22f0-432a-8987-4198956815c8",
   "metadata": {},
   "outputs": [],
   "source": [
    "#lets load the data to get started \n",
    "who_ears = catalog.load('raw_daily_who_ears')"
   ]
  },
  {
   "cell_type": "code",
   "execution_count": null,
   "id": "63060533-b407-411c-994f-627e5bb87584",
   "metadata": {
    "tags": [
     "node"
    ]
   },
   "outputs": [],
   "source": [
    "# A function so that we can combine all the partitions from the various csv files\n",
    "\n",
    "from typing import Any, Callable, Dict\n",
    "import pandas as pd\n",
    "from datetime import timedelta, datetime as dt\n",
    "\n",
    "def merge_data(partitioned_input: Dict[str, Callable[[], Any]]) -> pd.DataFrame:\n",
    "    merged_df = pd.DataFrame()\n",
    "    for partition_id, partition_load_func in sorted(partitioned_input.items()):\n",
    "        partition_data = partition_load_func()  # Load partition data\n",
    "        merged_df = pd.concat([merged_df, partition_data], ignore_index=True, sort=True)\n",
    "    return merged_df\n",
    "\n"
   ]
  },
  {
   "cell_type": "code",
   "execution_count": null,
   "id": "62606d9a-5de9-4f6b-9349-b889671a4eb5",
   "metadata": {},
   "outputs": [],
   "source": [
    "# test function\n",
    "result = merge_data(who_ears)"
   ]
  },
  {
   "cell_type": "code",
   "execution_count": null,
   "id": "3ed0cef7-9a6a-4739-9b92-0965ccb6e13d",
   "metadata": {},
   "outputs": [],
   "source": [
    "print(result.columns)"
   ]
  },
  {
   "cell_type": "code",
   "execution_count": null,
   "id": "71e29070-5e2e-41a4-ac35-25ceb3a3d60f",
   "metadata": {},
   "outputs": [],
   "source": [
    "#lets load the data to get started \n",
    "who_ears_owid = catalog.load('merge_who_ears_owid_data')"
   ]
  },
  {
   "cell_type": "code",
   "execution_count": null,
   "id": "df7adad7-5c1d-4217-94e7-5d2f9fc06fc9",
   "metadata": {},
   "outputs": [],
   "source": [
    "print(who_ears_owid.columns)"
   ]
  },
  {
   "cell_type": "code",
   "execution_count": null,
   "id": "9c59d9e3-2e4e-4f9d-80a2-7876d3d35f60",
   "metadata": {},
   "outputs": [],
   "source": [
    "!pip install dtale"
   ]
  },
  {
   "cell_type": "code",
   "execution_count": null,
   "id": "c1f4a92b-ab6b-4be5-8ffc-c80867e3b896",
   "metadata": {},
   "outputs": [],
   "source": [
    "import dtale\n",
    "dtale.show(who_ears_owid)"
   ]
  },
  {
   "cell_type": "code",
   "execution_count": null,
   "id": "1548388c-ca7d-49cf-9ce6-3f3f5003dca7",
   "metadata": {},
   "outputs": [],
   "source": []
  }
 ],
 "metadata": {
  "kernelspec": {
   "display_name": "Kedro (who_ears_social_listening_pipeline)",
   "language": "python",
   "name": "kedro_who_ears_social_listening_pipeline"
  },
  "language_info": {
   "codemirror_mode": {
    "name": "ipython",
    "version": 3
   },
   "file_extension": ".py",
   "mimetype": "text/x-python",
   "name": "python",
   "nbconvert_exporter": "python",
   "pygments_lexer": "ipython3",
   "version": "3.10.8"
  }
 },
 "nbformat": 4,
 "nbformat_minor": 5
}
