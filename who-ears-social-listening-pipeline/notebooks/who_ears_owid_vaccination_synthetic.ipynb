{
 "cells": [
  {
   "cell_type": "markdown",
   "id": "e1dcd4e3-e85b-4bfe-9118-59c531cfcb09",
   "metadata": {},
   "source": [
    "Since our data vaccination data is somewhat incomplete lets see if we can boost the model with some sythetic data. "
   ]
  },
  {
   "cell_type": "code",
   "execution_count": null,
   "id": "f3c71282-8da1-4b68-84b3-4b4dee500284",
   "metadata": {},
   "outputs": [],
   "source": [
    "from pycaret.regression import *\n",
    "\n",
    "# importing the required libraries\n",
    "import pandas as pd\n",
    "import numpy as np\n",
    "import seaborn as sns\n",
    "import folium \n",
    "from folium import plugins\n",
    "\n",
    "# Disable warnings \n",
    "import warnings\n",
    "warnings.filterwarnings('ignore')"
   ]
  },
  {
   "cell_type": "code",
   "execution_count": null,
   "id": "deda780a-6c0b-448b-9d50-7510dddb29d7",
   "metadata": {},
   "outputs": [],
   "source": [
    "# load dataframe for feature analysis\n",
    "combined_data = catalog.load(\"merge_who_ears_owid_data\")\n",
    "combined_data['date'] = pd.to_datetime(combined_data['date'], format = '%Y-%m-%d')\n",
    "# combined_data[\"date\"] = pd.to_datetime(combined_data[\"date\"])\n"
   ]
  },
  {
   "cell_type": "code",
   "execution_count": null,
   "id": "deac8844-3b87-4080-b54c-b1a873def4c0",
   "metadata": {},
   "outputs": [],
   "source": [
    "features = combined_data[['date', 'mis_and_disinformation', 'mis_and_disinformation_complaints', \n",
    "                          'mis_and_disinformation_delta', 'mis_and_disinformation_male', \n",
    "                          'mis_and_disinformation_percent', 'mis_and_disinformation_questions', \n",
    "                          'mis_and_disinformation_female',\n",
    "                         'myths', 'myths_complaints', 'myths_delta', 'myths_female', \n",
    "                          'myths_male', 'myths_percent', 'myths_questions','new_vaccinations']]\n",
    "\n",
    "features = features.dropna()"
   ]
  },
  {
   "cell_type": "code",
   "execution_count": null,
   "id": "b8cfe669-a919-4bc3-b597-2edfb4beab41",
   "metadata": {},
   "outputs": [],
   "source": [
    "# lets setup our first session for eval\n",
    "# we chose total cases since its a complete set AND is has high correlation with the other features (Pearson)\n",
    "session_2 = setup(features, target = 'new_vaccinations', \n",
    "                  session_id=12, \n",
    "                  log_experiment=False, \n",
    "                  experiment_name='new_vaccinations_1')"
   ]
  },
  {
   "cell_type": "code",
   "execution_count": null,
   "id": "d8f55d93-84a9-47f9-9c24-dee4dda61d28",
   "metadata": {},
   "outputs": [],
   "source": [
    "# We can now compare all the regression models available \n",
    "best_model = compare_models()"
   ]
  },
  {
   "cell_type": "markdown",
   "id": "7d49f76e-6fde-44a1-afeb-954dc305f48e",
   "metadata": {},
   "source": [
    "And now for some synthetic data creation with dGAN https://github.com/gretelai/gretel-synthetics/blob/master/examples/timeseries_dgan.ipynb"
   ]
  },
  {
   "cell_type": "code",
   "execution_count": null,
   "id": "4ce79b65-aa42-4a53-87e1-81e2a1de249a",
   "metadata": {},
   "outputs": [],
   "source": [
    "#Uncomment to install ydata-synthetic lib\n",
    "!pip install gretel-synthetics --upgrade\n",
    "!pip install torch numpy pandas matplotlib scikit-learn"
   ]
  },
  {
   "cell_type": "code",
   "execution_count": null,
   "id": "8a3b2c18-9e86-4869-96c4-bd5836b3a612",
   "metadata": {},
   "outputs": [],
   "source": [
    "import pandas as pd\n",
    "import numpy as np\n",
    "\n",
    "import matplotlib.pyplot as plt\n",
    "import matplotlib.dates as md\n",
    "\n",
    "import torch\n",
    "\n",
    "from gretel_synthetics.timeseries_dgan.dgan import DGAN\n",
    "from gretel_synthetics.timeseries_dgan.config import DGANConfig, OutputType\n"
   ]
  },
  {
   "cell_type": "code",
   "execution_count": null,
   "id": "d78e55fa-e766-46c4-b7f9-83e5e25b951b",
   "metadata": {},
   "outputs": [],
   "source": [
    "# Plot the 4 columns over the 4+ months of data\n",
    "for c in features.columns:\n",
    "    if c in ['myths', 'mis_and_disinformation', 'new_vaccinations']:\n",
    "        plt.plot(features[\"date\"], features[c], label=c)\n",
    "plt.xticks(rotation=90)\n",
    "plt.legend()\n",
    "plt.ylabel(\"Feature Values\")\n",
    "plt.xlabel(\"Date\")\n",
    "plt.show()"
   ]
  },
  {
   "cell_type": "code",
   "execution_count": null,
   "id": "90e50a70-9b82-4120-aa5c-1f7c2b7cc5b5",
   "metadata": {},
   "outputs": [],
   "source": [
    "print(features.shape)\n",
    "# DGAN needs many example time series to train. Split into 1-day slices to\n",
    "# create multiple examples.\n",
    "features = features.drop(columns=\"date\").to_numpy()\n",
    "# Obsevations every 10 minutes, so 144 * 10 minutes = 1 day\n",
    "n = features.shape[0]\n",
    "features = features[:(n),:].reshape(-1, 1, features.shape[1])\n",
    "# Shape is now (# examples, # time points, # features)\n",
    "print(features.shape)"
   ]
  },
  {
   "cell_type": "code",
   "execution_count": null,
   "id": "81191635-2bce-4d5d-8f54-5b11ecedb2fb",
   "metadata": {},
   "outputs": [],
   "source": [
    "features.shape"
   ]
  },
  {
   "cell_type": "code",
   "execution_count": null,
   "id": "51b20dc1-dfce-4f67-8e95-9edbb750469a",
   "metadata": {},
   "outputs": [],
   "source": [
    "\n",
    "# Train DGAN model\n",
    "model = DGAN(DGANConfig(\n",
    "    max_sequence_len=features.shape[1],\n",
    "    sample_len=1,\n",
    "    batch_size=min(1000, features.shape[0]),\n",
    "    apply_feature_scaling=True,\n",
    "    apply_example_scaling=False,\n",
    "    use_attribute_discriminator=False,\n",
    "    generator_learning_rate=1e-4,\n",
    "    discriminator_learning_rate=1e-4,\n",
    "    epochs=10000,\n",
    "))\n",
    "\n",
    "model.train_numpy(\n",
    "    features,\n",
    "    feature_types=[OutputType.CONTINUOUS] * features.shape[2],\n",
    ")\n",
    "\n",
    "# Generate synthetic data\n",
    "_, synthetic_features = model.generate_numpy(20000)\n"
   ]
  },
  {
   "cell_type": "code",
   "execution_count": null,
   "id": "9c919b35-e6b5-4900-8fbf-c42b35bb43a9",
   "metadata": {},
   "outputs": [],
   "source": [
    "_, synthetic_features = model.generate_numpy(20000)\n",
    "\n"
   ]
  },
  {
   "cell_type": "code",
   "execution_count": null,
   "id": "f1690477-605f-4eeb-b2dc-6bc67b0ebc71",
   "metadata": {},
   "outputs": [],
   "source": [
    "# Compare distribution of T_out values\n",
    "plt.hist([features[:,:,3].flatten(), synthetic_features[:,:,3].flatten()], \n",
    "         label=[\"real\", \"synthetic\"],\n",
    "         bins=25,\n",
    "         density=True)\n",
    "plt.legend()\n",
    "plt.xlabel(\"Values\")\n",
    "plt.ylabel(\"Density\")\n",
    "plt.show()"
   ]
  },
  {
   "cell_type": "code",
   "execution_count": null,
   "id": "08777678-7eae-4038-a32d-9799c7ce0b74",
   "metadata": {},
   "outputs": [],
   "source": [
    "# Compare distribution of 1-step (10 minute) diffs for T_out\n",
    "real_diffs = np.diff(features, axis=1)\n",
    "synthetic_diffs = np.diff(synthetic_features, axis=1)\n",
    "\n",
    "plt.hist([real_diffs[:,:,3].flatten(), synthetic_diffs[:,:,3].flatten()],\n",
    "         label=[\"real\", \"synthetic\"],\n",
    "         bins=25,\n",
    "         density=True)\n",
    "plt.legend()\n",
    "plt.xlabel(\"value change\")\n",
    "plt.ylabel(\"Density\")\n",
    "plt.show()\n"
   ]
  },
  {
   "cell_type": "code",
   "execution_count": null,
   "id": "3b10bae3-94be-4fea-9b4f-50342a3b0198",
   "metadata": {},
   "outputs": [],
   "source": [
    "# pd.DataFrame(synthetic_features).to_csv('sample.csv')\n",
    "model.save(\"synthetic_model\")\n"
   ]
  },
  {
   "cell_type": "code",
   "execution_count": null,
   "id": "00a21d34-a8cf-42a7-ad39-3d52061df217",
   "metadata": {},
   "outputs": [],
   "source": [
    "# Lets make a return to the 2-d world by squeezeing our 3d out \n",
    "df = pd.DataFrame(np.squeeze(synthetic_features))\n",
    "\n"
   ]
  },
  {
   "cell_type": "code",
   "execution_count": null,
   "id": "3e7d37f1-55d6-48d6-9e04-1b27cf80a319",
   "metadata": {},
   "outputs": [],
   "source": [
    "df.to_csv('sample.csv')"
   ]
  },
  {
   "cell_type": "code",
   "execution_count": null,
   "id": "63605f7e-63fe-4b12-828d-f39ac5c569d3",
   "metadata": {},
   "outputs": [],
   "source": [
    "features.to_csv('original_set.csv')"
   ]
  },
  {
   "cell_type": "code",
   "execution_count": null,
   "id": "fd518dea-6b0f-4985-a68f-e784ce5c2036",
   "metadata": {},
   "outputs": [],
   "source": [
    "import datetime\n",
    "# Add a column of numbers to the dataframe\n",
    "df['numbers'] = range(20000)\n",
    "\n",
    "# Get today's date\n",
    "today = datetime.datetime.today()\n",
    "\n",
    "# Generate a range of dates starting from today and ending today+9 days.\n",
    "date_list = pd.date_range(today, periods=20000)\n",
    "\n",
    "# Add date column to the dataframe\n",
    "df = df.assign(date=date_list)"
   ]
  },
  {
   "cell_type": "code",
   "execution_count": null,
   "id": "348dff74-c3be-472c-95ee-07263d54df89",
   "metadata": {},
   "outputs": [],
   "source": [
    "dtale.show(df)"
   ]
  },
  {
   "cell_type": "code",
   "execution_count": null,
   "id": "1319b960-e6b9-43a6-a6fb-86ee76e3f613",
   "metadata": {},
   "outputs": [],
   "source": [
    "df.columns"
   ]
  },
  {
   "cell_type": "code",
   "execution_count": null,
   "id": "7accb88a-dab0-49cd-9bc7-42b421a6dd8a",
   "metadata": {},
   "outputs": [],
   "source": [
    "col_names = ['mis_and_disinformation', 'mis_and_disinformation_complaints', \n",
    " 'mis_and_disinformation_delta', 'mis_and_disinformation_male', \n",
    " 'mis_and_disinformation_percent', 'mis_and_disinformation_questions', \n",
    " 'mis_and_disinformation_female',\n",
    "                         'myths', 'myths_complaints', 'myths_delta', 'myths_female', \n",
    " 'myths_male', 'myths_percent', 'myths_questions','new_vaccinations']\n",
    "\n",
    "# rename the columns \n",
    "df = df.rename(columns = dict(zip(df.columns,col_names)))"
   ]
  },
  {
   "cell_type": "code",
   "execution_count": null,
   "id": "a0a784d5-cd27-4774-8437-48e0d060fbb4",
   "metadata": {},
   "outputs": [],
   "source": [
    "df.drop(columns=['numbers'])"
   ]
  },
  {
   "cell_type": "code",
   "execution_count": null,
   "id": "d24c7f5f-67e5-41db-a94a-77d991bcf1ec",
   "metadata": {},
   "outputs": [],
   "source": [
    "result_df = features.append(df)"
   ]
  },
  {
   "cell_type": "code",
   "execution_count": null,
   "id": "f88ae31a-6c41-4469-9eac-8677cb79cf7c",
   "metadata": {},
   "outputs": [],
   "source": [
    "# lets setup our first session for eval\n",
    "# we chose total cases since its a complete set AND is has high correlation with the other features (Pearson)\n",
    "session_2 = setup(result_df, target = 'new_vaccinations', \n",
    "                  session_id=12, \n",
    "                  log_experiment=False, \n",
    "                  experiment_name='new_vaccinations_1')"
   ]
  },
  {
   "cell_type": "code",
   "execution_count": null,
   "id": "7d6b1058-7f2f-4f78-ae59-11a0c66047ab",
   "metadata": {},
   "outputs": [],
   "source": [
    "best_model = compare_models()"
   ]
  },
  {
   "cell_type": "code",
   "execution_count": null,
   "id": "f17bf444-3b01-4ba9-84ee-0552fbb02cf8",
   "metadata": {},
   "outputs": [],
   "source": []
  }
 ],
 "metadata": {
  "kernelspec": {
   "display_name": "Kedro (who_ears_social_listening_pipeline)",
   "language": "python",
   "name": "kedro_who_ears_social_listening_pipeline"
  },
  "language_info": {
   "codemirror_mode": {
    "name": "ipython",
    "version": 3
   },
   "file_extension": ".py",
   "mimetype": "text/x-python",
   "name": "python",
   "nbconvert_exporter": "python",
   "pygments_lexer": "ipython3",
   "version": "3.10.8"
  }
 },
 "nbformat": 4,
 "nbformat_minor": 5
}
